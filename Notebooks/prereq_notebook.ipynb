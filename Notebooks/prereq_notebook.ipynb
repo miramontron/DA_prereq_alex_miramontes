{
 "cells": [
  {
   "cell_type": "markdown",
   "id": "9583e80c",
   "metadata": {},
   "source": [
    "Hello CodeYou mentors and training team! My name is Alex and I'm a front-end developer from Chicago by way of the Bay Area now residing in Louisville. I'm excited to learn more about the tech industry here in Louisville and to continue to grow as a developer. "
   ]
  },
  {
   "cell_type": "code",
   "execution_count": 1,
   "id": "4da521d3",
   "metadata": {},
   "outputs": [
    {
     "name": "stdout",
     "output_type": "stream",
     "text": [
      "hello world\n"
     ]
    }
   ],
   "source": [
    "print(\"hello world\"); "
   ]
  }
 ],
 "metadata": {
  "kernelspec": {
   "display_name": "Python 3",
   "language": "python",
   "name": "python3"
  },
  "language_info": {
   "codemirror_mode": {
    "name": "ipython",
    "version": 3
   },
   "file_extension": ".py",
   "mimetype": "text/x-python",
   "name": "python",
   "nbconvert_exporter": "python",
   "pygments_lexer": "ipython3",
   "version": "3.13.5"
  }
 },
 "nbformat": 4,
 "nbformat_minor": 5
}
